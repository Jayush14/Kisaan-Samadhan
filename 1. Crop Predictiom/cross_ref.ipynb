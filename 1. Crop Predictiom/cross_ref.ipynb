{
 "cells": [
  {
   "cell_type": "code",
   "execution_count": null,
   "metadata": {},
   "outputs": [],
   "source": []
  }
 ],
 "metadata": {
  "kernelspec": {
   "display_name": ".venv",
   "language": "python",
   "name": "python3"
  },
  "language_info": {
   "name": "python",
   "version": "3.9.14 (main, Sep 21 2022, 00:00:00) \n[GCC 11.3.1 20220421 (Red Hat 11.3.1-2)]"
  },
  "orig_nbformat": 4,
  "vscode": {
   "interpreter": {
    "hash": "e19f2f4603b121f345fb5242191b61da42ec5dfe7de1e46fd6814367d39b7bd0"
   }
  }
 },
 "nbformat": 4,
 "nbformat_minor": 2
}
